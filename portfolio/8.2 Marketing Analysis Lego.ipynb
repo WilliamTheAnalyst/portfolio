{
 "cells": [
  {
   "cell_type": "markdown",
   "id": "0ec1323e",
   "metadata": {},
   "source": [
    "## 1. environment setup"
   ]
  },
  {
   "cell_type": "code",
   "execution_count": 1,
   "id": "08d72e31",
   "metadata": {},
   "outputs": [],
   "source": [
    "import numpy as np\n",
    "import pandas as pd"
   ]
  },
  {
   "cell_type": "markdown",
   "id": "763dd50a",
   "metadata": {},
   "source": [
    "## 2. ETL"
   ]
  },
  {
   "cell_type": "code",
   "execution_count": 3,
   "id": "13e55869",
   "metadata": {},
   "outputs": [],
   "source": [
    "df = pd.read_csv('./lego_sets.csv')\n",
    "pt = pd.read_csv('./parent_themes.csv')"
   ]
  },
  {
   "cell_type": "code",
   "execution_count": 4,
   "id": "ffa4cbba",
   "metadata": {},
   "outputs": [],
   "source": [
    "# join the 2 data sets\n",
    "df = df.merge(pt,left_on='parent_theme', right_on='name')\n",
    "\n",
    "# drop unused column\n",
    "df.drop(columns='name_y', inplace=True)\n"
   ]
  },
  {
   "cell_type": "code",
   "execution_count": 11,
   "id": "14741ecc",
   "metadata": {},
   "outputs": [
    {
     "name": "stdout",
     "output_type": "stream",
     "text": [
      "There are 153 invalid rows vs. 11986 total\n"
     ]
    }
   ],
   "source": [
    "#drop invalid/null data\n",
    "#df[df['set_num'].isnull()]\n",
    "nulls_total = df['set_num'].isnull().sum()\n",
    "rows_total = df.shape[0]\n",
    "\n",
    "print(f'There are {nulls_total} invalid rows vs. {rows_total} total')\n",
    "df = df.dropna(subset='set_num')\n",
    "\n",
    "# check for duplicated\n",
    "duplicated = df[\"set_num\"].duplicated(keep=False).sum()\n",
    "print(f'There are {duplicated} rows that are duplicated')"
   ]
  },
  {
   "cell_type": "markdown",
   "id": "842e4512",
   "metadata": {},
   "source": [
    "## query 1: # number of licensed starwar themed lego"
   ]
  },
  {
   "cell_type": "code",
   "execution_count": 13,
   "id": "f0172808",
   "metadata": {},
   "outputs": [
    {
     "name": "stdout",
     "output_type": "stream",
     "text": [
      "In this data set, 51% of the lego are Star Wars\n"
     ]
    }
   ],
   "source": [
    "licensed = df[df['is_licensed'] == True]\n",
    "star_wars = licensed[licensed['parent_theme'] == 'Star Wars']\n",
    "\n",
    "licensed_total = licensed.shape[0]\n",
    "star_wars_total = star_wars.shape[0]\n",
    "\n",
    "q1 = int(star_wars_total/licensed_total * 100)\n",
    "\n",
    "print(f'In this data set, {q1}% of the lego are Star Wars')"
   ]
  },
  {
   "cell_type": "markdown",
   "id": "2fe33060",
   "metadata": {},
   "source": [
    "## query 2: year where Star Wars sets was beaten"
   ]
  },
  {
   "cell_type": "code",
   "execution_count": 38,
   "id": "f69abce0",
   "metadata": {},
   "outputs": [
    {
     "name": "stdout",
     "output_type": "stream",
     "text": [
      "In 2017, Star Wars was beaten\n"
     ]
    }
   ],
   "source": [
    "sorted = licensed.sort_values(by='year')\n",
    "sorted['count'] = 1\n",
    "\n",
    "grouped = sorted.groupby(by=['year', 'parent_theme'])['count'].count().reset_index()\n",
    "\n",
    "# for each group, get the index of the maximum count\n",
    "indices = grouped.groupby(by='year')['count'].idxmax()\n",
    "result = grouped.loc[indices]\n",
    "\n",
    "r = result[result['parent_theme'] != 'Star Wars']\n",
    "q2 = r.iloc[:,0].iloc[0]\n",
    "\n",
    "print(f'In {q2}, Star Wars was beaten')"
   ]
  },
  {
   "cell_type": "markdown",
   "id": "54b8471f",
   "metadata": {},
   "source": [
    "## query 3. unique sets per year"
   ]
  },
  {
   "cell_type": "code",
   "execution_count": 50,
   "id": "b99a1e48",
   "metadata": {},
   "outputs": [
    {
     "name": "stdout",
     "output_type": "stream",
     "text": [
      "1950 has 7 lego sets\n",
      "1953 has 4 lego sets\n",
      "1954 has 14 lego sets\n",
      "1955 has 28 lego sets\n",
      "1956 has 12 lego sets\n",
      "1957 has 21 lego sets\n",
      "1958 has 42 lego sets\n",
      "1959 has 4 lego sets\n",
      "1960 has 3 lego sets\n",
      "1961 has 17 lego sets\n",
      "1962 has 40 lego sets\n",
      "1963 has 18 lego sets\n",
      "1964 has 11 lego sets\n",
      "1965 has 10 lego sets\n",
      "1966 has 89 lego sets\n",
      "1967 has 21 lego sets\n",
      "1968 has 25 lego sets\n",
      "1969 has 69 lego sets\n",
      "1970 has 29 lego sets\n",
      "1971 has 45 lego sets\n",
      "1972 has 38 lego sets\n",
      "1973 has 68 lego sets\n",
      "1974 has 39 lego sets\n",
      "1975 has 31 lego sets\n",
      "1976 has 68 lego sets\n",
      "1977 has 92 lego sets\n",
      "1978 has 73 lego sets\n",
      "1979 has 82 lego sets\n",
      "1980 has 88 lego sets\n",
      "1981 has 79 lego sets\n",
      "1982 has 76 lego sets\n",
      "1983 has 57 lego sets\n",
      "1984 has 76 lego sets\n",
      "1985 has 139 lego sets\n",
      "1986 has 123 lego sets\n",
      "1987 has 209 lego sets\n",
      "1988 has 68 lego sets\n",
      "1989 has 114 lego sets\n",
      "1990 has 85 lego sets\n",
      "1991 has 106 lego sets\n",
      "1992 has 115 lego sets\n",
      "1993 has 111 lego sets\n",
      "1994 has 128 lego sets\n",
      "1995 has 128 lego sets\n",
      "1996 has 144 lego sets\n",
      "1997 has 194 lego sets\n",
      "1998 has 325 lego sets\n",
      "1999 has 300 lego sets\n",
      "2000 has 327 lego sets\n",
      "2001 has 339 lego sets\n",
      "2002 has 447 lego sets\n",
      "2003 has 415 lego sets\n",
      "2004 has 371 lego sets\n",
      "2005 has 330 lego sets\n",
      "2006 has 283 lego sets\n",
      "2007 has 319 lego sets\n",
      "2008 has 349 lego sets\n",
      "2009 has 403 lego sets\n",
      "2010 has 444 lego sets\n",
      "2011 has 502 lego sets\n",
      "2012 has 615 lego sets\n",
      "2013 has 593 lego sets\n",
      "2014 has 715 lego sets\n",
      "2015 has 670 lego sets\n",
      "2016 has 608 lego sets\n",
      "2017 has 438 lego sets\n"
     ]
    }
   ],
   "source": [
    "df = df.copy()\n",
    "df['count'] = 1\n",
    "\n",
    "# cleaning\n",
    "df2 = df.drop_duplicates(subset=['set_num'], keep='first')\n",
    "df2 = df[~df['set_num'].isnull()]\n",
    "\n",
    "# query\n",
    "sets_per_year = df2.groupby(by='year').sum().reset_index()\n",
    "\n",
    "# display result\n",
    "for i, r in sets_per_year.iterrows():\n",
    "    year = int(r['year'].round(0))\n",
    "    sets = int(r['count'].round(0))\n",
    "    print(f'{year} has {sets} lego sets')"
   ]
  }
 ],
 "metadata": {
  "kernelspec": {
   "display_name": "Python 3 (ipykernel)",
   "language": "python",
   "name": "python3"
  },
  "language_info": {
   "codemirror_mode": {
    "name": "ipython",
    "version": 3
   },
   "file_extension": ".py",
   "mimetype": "text/x-python",
   "name": "python",
   "nbconvert_exporter": "python",
   "pygments_lexer": "ipython3",
   "version": "3.9.13"
  }
 },
 "nbformat": 4,
 "nbformat_minor": 5
}
