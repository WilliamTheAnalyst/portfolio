{
 "cells": [
  {
   "cell_type": "markdown",
   "id": "6d5e4741",
   "metadata": {},
   "source": [
    "## Monte Carlo simulation"
   ]
  },
  {
   "cell_type": "markdown",
   "id": "6f4a3f39",
   "metadata": {},
   "source": [
    "## 1. environment setup"
   ]
  },
  {
   "cell_type": "code",
   "execution_count": 1,
   "id": "1ddd25bc",
   "metadata": {},
   "outputs": [],
   "source": [
    "import numpy as np\n",
    "import pandas as pd\n",
    "import seaborn as sns\n",
    "\n",
    "sns.set_style('whitegrid')"
   ]
  },
  {
   "cell_type": "code",
   "execution_count": 2,
   "id": "db09459e",
   "metadata": {},
   "outputs": [],
   "source": [
    "# project variables/historical variables\n",
    "# project budgeted vs. actual has an average of 100% achievement, which is set to 1\n",
    "\n",
    "avg = 1\n",
    "std_dev = 0.13\n",
    "num_projects = 1024\n",
    "num_simulations = 1000 "
   ]
  },
  {
   "cell_type": "markdown",
   "id": "39f42a00",
   "metadata": {},
   "source": [
    "## 2. generate data"
   ]
  },
  {
   "cell_type": "code",
   "execution_count": 3,
   "id": "4b7d915e",
   "metadata": {},
   "outputs": [],
   "source": [
    "# randomly generate a list of project achievement probabilities % for all projects, based off historical data\n",
    "\n",
    "pct_to_target = np.random.normal(avg, std_dev, num_projects).round(2)"
   ]
  },
  {
   "cell_type": "code",
   "execution_count": 4,
   "id": "a980106f",
   "metadata": {},
   "outputs": [
    {
     "data": {
      "text/plain": [
       "array([0.95, 0.95, 1.01, ..., 1.1 , 0.73, 1.24])"
      ]
     },
     "execution_count": 4,
     "metadata": {},
     "output_type": "execute_result"
    }
   ],
   "source": [
    "pct_to_target "
   ]
  },
  {
   "cell_type": "code",
   "execution_count": 5,
   "id": "07f30bb3",
   "metadata": {},
   "outputs": [],
   "source": [
    "# randomly generate a list of project targets\n",
    "# for example, there is a 40% chance of getting a $750,000 project\n",
    "# for demonstration purpose only, this can be fine-grained\n",
    "\n",
    "project_target_values = [500_000, 750_000, 1_000_000, 1_500_000, 2_000_000]\n",
    "project_target_prob = [.3, .4, .2, .1, .1]\n",
    "project_target = np.random.choice(project_target_values, num_projects, project_target_prob)"
   ]
  },
  {
   "cell_type": "code",
   "execution_count": 6,
   "id": "31501dac",
   "metadata": {},
   "outputs": [],
   "source": [
    "# setup data table\n",
    "df = pd.DataFrame(index=range(num_projects), data = {'Achievement': pct_to_target, 'Project Budgeted': project_target})\n",
    "df['Project Actual'] = df['Achievement'] * df['Project Budgeted']"
   ]
  },
  {
   "cell_type": "code",
   "execution_count": 7,
   "id": "12fa48ef",
   "metadata": {},
   "outputs": [],
   "source": [
    "# NOTE: statistically, although project actual may vary significantly, the achievement probability remains consistent"
   ]
  },
  {
   "cell_type": "markdown",
   "id": "ea75e546",
   "metadata": {},
   "source": [
    "## 3. financial model"
   ]
  },
  {
   "cell_type": "code",
   "execution_count": 8,
   "id": "e080df85",
   "metadata": {},
   "outputs": [],
   "source": [
    "# the financial model should be designed for specific use\n",
    "# objective: calculate gross profit\n",
    "# assumptions: 1) projects that miss budget and 2 )has been budgeted above 100,000,000 \n",
    "#              will incurr 77% COGS due to overhead/back office expenses; otherwise, 72% COGS\n",
    "\n",
    "def calculate_cogs(achievement, budget):\n",
    "    if (achievement < 1.0) & (budget > 1_000_000):\n",
    "        return 0.77\n",
    "    else:      \n",
    "        return 0.72\n",
    "\n",
    "df['COGS_Rate'] = df[['Achievement','Project Budgeted']].apply(lambda x: calculate_cogs(x['Achievement'], x['Project Budgeted']), axis=1)\n",
    "df['GP_Amount'] = df['Project Actual'] * (1 - df['COGS_Rate'])"
   ]
  },
  {
   "cell_type": "markdown",
   "id": "61285c1c",
   "metadata": {},
   "source": [
    "## 4. Monte Carlo simulation"
   ]
  },
  {
   "cell_type": "code",
   "execution_count": 9,
   "id": "b96019b2",
   "metadata": {},
   "outputs": [],
   "source": [
    "result = []\n",
    "\n",
    "for i in range(num_simulations):\n",
    "    # randomly generate based on historical data\n",
    "    project_target = np.random.choice(project_target_values, num_projects, project_target_prob)\n",
    "    pct_to_target = np.random.normal(avg, std_dev, num_projects).round(2)\n",
    "    \n",
    "    # calculate project actual achievement amount\n",
    "    df = pd.DataFrame(index=range(num_projects), data = {'Achievement': pct_to_target, 'Project Budgeted': project_target})\n",
    "    df['Project Actual'] = df['Achievement'] * df['Project Budgeted']\n",
    "    \n",
    "    # as above, determine the GP\n",
    "    df['COGS_Rate'] = df[['Achievement','Project Budgeted']].apply(lambda x: calculate_cogs(x['Achievement'], x['Project Budgeted']), axis=1)\n",
    "    df['GP_Amount'] = df['Project Actual'] * (1 - df['COGS_Rate'])\n",
    "    \n",
    "    # store into result set\n",
    "    result.append([df['Project Actual'].sum().round(0),\n",
    "                   df['GP_Amount'].sum().round(0),\n",
    "                   df['Project Budgeted'].sum().round(0)])"
   ]
  },
  {
   "cell_type": "code",
   "execution_count": 10,
   "id": "73f65ed7",
   "metadata": {},
   "outputs": [],
   "source": [
    "result = pd.DataFrame.from_records(result, columns=['Project Actual', 'GP_Amount', 'Project Budgeted'])"
   ]
  },
  {
   "cell_type": "markdown",
   "id": "ae241594",
   "metadata": {},
   "source": [
    "## 5. Getting Results"
   ]
  },
  {
   "cell_type": "code",
   "execution_count": 26,
   "id": "dc3e844d",
   "metadata": {},
   "outputs": [
    {
     "data": {
      "text/html": [
       "<style type=\"text/css\">\n",
       "#T_1e5f0_row0_col0, #T_1e5f0_row0_col1, #T_1e5f0_row0_col2, #T_1e5f0_row1_col2, #T_1e5f0_row2_col0, #T_1e5f0_row3_col0, #T_1e5f0_row4_col2, #T_1e5f0_row5_col0, #T_1e5f0_row6_col0, #T_1e5f0_row7_col2 {\n",
       "  background-color: yellow;\n",
       "}\n",
       "</style>\n",
       "<table id=\"T_1e5f0\">\n",
       "  <thead>\n",
       "    <tr>\n",
       "      <th class=\"blank level0\" >&nbsp;</th>\n",
       "      <th id=\"T_1e5f0_level0_col0\" class=\"col_heading level0 col0\" >Project Actual</th>\n",
       "      <th id=\"T_1e5f0_level0_col1\" class=\"col_heading level0 col1\" >GP_Amount</th>\n",
       "      <th id=\"T_1e5f0_level0_col2\" class=\"col_heading level0 col2\" >Project Budgeted</th>\n",
       "    </tr>\n",
       "  </thead>\n",
       "  <tbody>\n",
       "    <tr>\n",
       "      <th id=\"T_1e5f0_level0_row0\" class=\"row_heading level0 row0\" >count</th>\n",
       "      <td id=\"T_1e5f0_row0_col0\" class=\"data row0 col0\" >1,000.0</td>\n",
       "      <td id=\"T_1e5f0_row0_col1\" class=\"data row0 col1\" >1,000.0</td>\n",
       "      <td id=\"T_1e5f0_row0_col2\" class=\"data row0 col2\" >1,000.0</td>\n",
       "    </tr>\n",
       "    <tr>\n",
       "      <th id=\"T_1e5f0_level0_row1\" class=\"row_heading level0 row1\" >mean</th>\n",
       "      <td id=\"T_1e5f0_row1_col0\" class=\"data row1 col0\" >1,177,832,905.0</td>\n",
       "      <td id=\"T_1e5f0_row1_col1\" class=\"data row1 col1\" >314,238,714.4</td>\n",
       "      <td id=\"T_1e5f0_row1_col2\" class=\"data row1 col2\" >1,177,874,750.0</td>\n",
       "    </tr>\n",
       "    <tr>\n",
       "      <th id=\"T_1e5f0_level0_row2\" class=\"row_heading level0 row2\" >std</th>\n",
       "      <td id=\"T_1e5f0_row2_col0\" class=\"data row2 col0\" >18,407,428.871888954</td>\n",
       "      <td id=\"T_1e5f0_row2_col1\" class=\"data row2 col1\" >4,873,800.885252913</td>\n",
       "      <td id=\"T_1e5f0_row2_col2\" class=\"data row2 col2\" >17,525,282.036188304</td>\n",
       "    </tr>\n",
       "    <tr>\n",
       "      <th id=\"T_1e5f0_level0_row3\" class=\"row_heading level0 row3\" >min</th>\n",
       "      <td id=\"T_1e5f0_row3_col0\" class=\"data row3 col0\" >1,126,387,500.0</td>\n",
       "      <td id=\"T_1e5f0_row3_col1\" class=\"data row3 col1\" >300,958,000.0</td>\n",
       "      <td id=\"T_1e5f0_row3_col2\" class=\"data row3 col2\" >1,126,000,000.0</td>\n",
       "    </tr>\n",
       "    <tr>\n",
       "      <th id=\"T_1e5f0_level0_row4\" class=\"row_heading level0 row4\" >25%</th>\n",
       "      <td id=\"T_1e5f0_row4_col0\" class=\"data row4 col0\" >1,164,796,875.0</td>\n",
       "      <td id=\"T_1e5f0_row4_col1\" class=\"data row4 col1\" >310,826,562.5</td>\n",
       "      <td id=\"T_1e5f0_row4_col2\" class=\"data row4 col2\" >1,166,000,000.0</td>\n",
       "    </tr>\n",
       "    <tr>\n",
       "      <th id=\"T_1e5f0_level0_row5\" class=\"row_heading level0 row5\" >50%</th>\n",
       "      <td id=\"T_1e5f0_row5_col0\" class=\"data row5 col0\" >1,178,066,250.0</td>\n",
       "      <td id=\"T_1e5f0_row5_col1\" class=\"data row5 col1\" >314,400,525.0</td>\n",
       "      <td id=\"T_1e5f0_row5_col2\" class=\"data row5 col2\" >1,177,750,000.0</td>\n",
       "    </tr>\n",
       "    <tr>\n",
       "      <th id=\"T_1e5f0_level0_row6\" class=\"row_heading level0 row6\" >75%</th>\n",
       "      <td id=\"T_1e5f0_row6_col0\" class=\"data row6 col0\" >1,189,838,125.0</td>\n",
       "      <td id=\"T_1e5f0_row6_col1\" class=\"data row6 col1\" >317,459,500.0</td>\n",
       "      <td id=\"T_1e5f0_row6_col2\" class=\"data row6 col2\" >1,189,250,000.0</td>\n",
       "    </tr>\n",
       "    <tr>\n",
       "      <th id=\"T_1e5f0_level0_row7\" class=\"row_heading level0 row7\" >max</th>\n",
       "      <td id=\"T_1e5f0_row7_col0\" class=\"data row7 col0\" >1,225,997,500.0</td>\n",
       "      <td id=\"T_1e5f0_row7_col1\" class=\"data row7 col1\" >327,715,350.0</td>\n",
       "      <td id=\"T_1e5f0_row7_col2\" class=\"data row7 col2\" >1,233,500,000.0</td>\n",
       "    </tr>\n",
       "  </tbody>\n",
       "</table>\n"
      ],
      "text/plain": [
       "<pandas.io.formats.style.Styler at 0x25d99bb9040>"
      ]
     },
     "execution_count": 26,
     "metadata": {},
     "output_type": "execute_result"
    }
   ],
   "source": [
    "result.describe().style.format('{:,}').highlight_max(axis=1)"
   ]
  }
 ],
 "metadata": {
  "kernelspec": {
   "display_name": "Python 3 (ipykernel)",
   "language": "python",
   "name": "python3"
  },
  "language_info": {
   "codemirror_mode": {
    "name": "ipython",
    "version": 3
   },
   "file_extension": ".py",
   "mimetype": "text/x-python",
   "name": "python",
   "nbconvert_exporter": "python",
   "pygments_lexer": "ipython3",
   "version": "3.9.13"
  }
 },
 "nbformat": 4,
 "nbformat_minor": 5
}
