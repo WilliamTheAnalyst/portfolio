{
 "cells": [
  {
   "cell_type": "markdown",
   "id": "15e838a3",
   "metadata": {},
   "source": [
    "# A/B Testing\n"
   ]
  },
  {
   "cell_type": "markdown",
   "id": "e39eec14",
   "metadata": {},
   "source": [
    "## Table of Contents\n",
    "## PART I. Proportions: Conversion Rate using z-test\n",
    "## PART II. Means: Average User Posts using t-test"
   ]
  },
  {
   "cell_type": "markdown",
   "id": "4d264f81",
   "metadata": {},
   "source": [
    "## PART I. Proportions: Conversion Rate using z-test\n",
    "## 1. environment setup"
   ]
  },
  {
   "cell_type": "code",
   "execution_count": 1,
   "id": "c43ecee2",
   "metadata": {},
   "outputs": [],
   "source": [
    "import numpy as np\n",
    "import pandas as pd\n",
    "import scipy.stats as stats\n",
    "import statsmodels.stats.api as sms\n",
    "import matplotlib as mpl\n",
    "import matplotlib.pyplot as plt\n",
    "import seaborn as sns\n",
    "from math import ceil\n",
    "import math\n",
    "from statsmodels.stats.proportion import proportions_ztest, proportion_confint\n",
    "\n",
    "%matplotlib inline"
   ]
  },
  {
   "cell_type": "markdown",
   "id": "6cae7eca",
   "metadata": {},
   "source": [
    "## 2. calculate required sample size from user input"
   ]
  },
  {
   "cell_type": "code",
   "execution_count": 2,
   "id": "fdf1befb",
   "metadata": {},
   "outputs": [
    {
     "name": "stdout",
     "output_type": "stream",
     "text": [
      "0.13\n",
      "0.15\n"
     ]
    }
   ],
   "source": [
    "state = 22\n",
    "alpha = 0.05\n",
    "power = 0.8\n",
    "\n",
    "baseline = float(input()) # e.g. 0.13 for 13% converted as base data\n",
    "target = float(input())   # e.g. 0.15 for 15% target conversion rate"
   ]
  },
  {
   "cell_type": "code",
   "execution_count": 3,
   "id": "073df49b",
   "metadata": {},
   "outputs": [
    {
     "name": "stdout",
     "output_type": "stream",
     "text": [
      "In this test, we need at least 4720 samples from each group\n"
     ]
    }
   ],
   "source": [
    "effect_size = sms.proportion_effectsize(baseline, target)\n",
    "required_n = ceil(sms.NormalIndPower().solve_power(effect_size, power=power, alpha=alpha, ratio=1))\n",
    "\n",
    "print(f\"In this test, we need at least {required_n} samples from each group\")"
   ]
  },
  {
   "cell_type": "markdown",
   "id": "e25178c1",
   "metadata": {},
   "source": [
    "## 3. import and clean user data"
   ]
  },
  {
   "cell_type": "code",
   "execution_count": 43,
   "id": "29533ec5",
   "metadata": {},
   "outputs": [],
   "source": [
    "df = pd.read_csv('./ab_data.csv')"
   ]
  },
  {
   "cell_type": "code",
   "execution_count": 5,
   "id": "b36f5208",
   "metadata": {},
   "outputs": [],
   "source": [
    "# sanity check: control group should not land on \"new page\", and the treatment group should not land on the \"old page\"\n",
    "pd.crosstab(df['landing_page'], df['group'])\n",
    "\n",
    "session_counts = df['user_id'].value_counts(ascending=False)\n",
    "multi_users = session_counts[session_counts > 1].count()\n",
    "\n",
    "# drop repeated user visits\n",
    "df = df[~df['user_id'].isin(session_counts[session_counts > 1].index)]\n"
   ]
  },
  {
   "cell_type": "markdown",
   "id": "5706764a",
   "metadata": {},
   "source": [
    "## 4. sampling"
   ]
  },
  {
   "cell_type": "code",
   "execution_count": 6,
   "id": "7e1357fa",
   "metadata": {},
   "outputs": [
    {
     "name": "stdout",
     "output_type": "stream",
     "text": [
      "Converted: control: 582.0000, treatment: 593.0000\n",
      "Proportions: control: 0.1233, treatment: 0.1256\n"
     ]
    }
   ],
   "source": [
    "control_sample = df[df['group'] == 'control'].sample(n=required_n, random_state=state)\n",
    "treatment_sample = df[df['group'] == 'treatment'].sample(n=required_n, random_state=state)\n",
    "\n",
    "\n",
    "control_converted = control_sample[control_sample['converted'] == 1]['converted'].sum()\n",
    "treatment_converted = treatment_sample[treatment_sample['converted'] == 1]['converted'].sum()\n",
    "\n",
    "control_proportion = control_converted / required_n\n",
    "treatment_proportion = treatment_converted / required_n\n",
    "\n",
    "print(f'Converted: control: {control_converted:.4f}, treatment: {treatment_converted:.4f}')\n",
    "print(f'Proportions: control: {control_proportion:.4f}, treatment: {treatment_proportion:.4f}')"
   ]
  },
  {
   "cell_type": "markdown",
   "id": "51b44c2e",
   "metadata": {},
   "source": [
    "## 5. z-test"
   ]
  },
  {
   "cell_type": "markdown",
   "id": "60249791",
   "metadata": {},
   "source": [
    "## 5.1 statistical significance"
   ]
  },
  {
   "cell_type": "code",
   "execution_count": 7,
   "id": "d5dcc4fc",
   "metadata": {},
   "outputs": [
    {
     "name": "stdout",
     "output_type": "stream",
     "text": [
      "z score: -0.3430, p value: 0.7316\n"
     ]
    }
   ],
   "source": [
    "# CALCULATION BY HAND\n",
    "# compute difference\n",
    "d = control_proportion - treatment_proportion\n",
    "\n",
    "# compute pooled proportion\n",
    "pooled_proportion = (control_converted + treatment_converted) / (required_n + required_n)\n",
    "\n",
    "# compute standard error\n",
    "pooled_se = math.sqrt (pooled_proportion * (1 - pooled_proportion) * (1/required_n + 1/required_n))\n",
    "\n",
    "\n",
    "## RESULTS ##\n",
    "\n",
    "# compute z score\n",
    "z = d / pooled_se \n",
    "\n",
    "# compute p-value\n",
    "p = stats.norm.sf(abs(z))*2\n",
    "print(f'z score: {z:.4f}, p value: {p:.4f}')\n"
   ]
  },
  {
   "cell_type": "code",
   "execution_count": 8,
   "id": "a330b321",
   "metadata": {},
   "outputs": [],
   "source": [
    "def is_significant(pvalue, alpha=0.05):\n",
    "    if ((pvalue > alpha) | (pvalue < -alpha)):\n",
    "        print(f\"p-value of {pvalue:.4f} is not significant\")\n",
    "    else:\n",
    "        print(f\"p-value of {pvalue:.4f} is significant\")"
   ]
  },
  {
   "cell_type": "code",
   "execution_count": 9,
   "id": "663f1e4a",
   "metadata": {
    "scrolled": true
   },
   "outputs": [
    {
     "name": "stdout",
     "output_type": "stream",
     "text": [
      "p-value of 0.7316 is not significant\n"
     ]
    }
   ],
   "source": [
    "is_significant(p)"
   ]
  },
  {
   "cell_type": "markdown",
   "id": "93eee1b1",
   "metadata": {},
   "source": [
    "## 5.2 practical significance: confidence interval"
   ]
  },
  {
   "cell_type": "code",
   "execution_count": 10,
   "id": "d3c04929",
   "metadata": {},
   "outputs": [
    {
     "name": "stdout",
     "output_type": "stream",
     "text": [
      "95% confidence level for control: lower 0.1139 upper 0.1327\n",
      "95% confidence level for treatment: lower 0.1162 upper 0.1351\n"
     ]
    }
   ],
   "source": [
    "# normal approximation interval\n",
    "# https://en.wikipedia.org/wiki/Binomial_proportion_confidence_interval\n",
    "\n",
    "z = 1.959964 # 95% CI look up\n",
    "control_lower_bound = control_proportion - (z*(math.sqrt((control_proportion*(1-control_proportion))/required_n)))\n",
    "control_uppeer_bound = control_proportion + (z*(math.sqrt((control_proportion*(1-control_proportion))/required_n)))\n",
    "\n",
    "treatment_lower_bound = treatment_proportion - (z*(math.sqrt((treatment_proportion*(1-treatment_proportion))/required_n)))\n",
    "treatment_uppeer_bound = treatment_proportion + (z*(math.sqrt((treatment_proportion*(1-treatment_proportion))/required_n)))\n",
    "\n",
    "print(f'95% confidence level for control: lower {control_lower_bound:.4f} upper {control_uppeer_bound:.4f}')\n",
    "print(f'95% confidence level for treatment: lower {treatment_lower_bound:.4f} upper {treatment_uppeer_bound:.4f}')\n",
    "\n"
   ]
  },
  {
   "cell_type": "code",
   "execution_count": 11,
   "id": "2efb7212",
   "metadata": {},
   "outputs": [],
   "source": [
    "def is_confident(target, lower, upper):\n",
    "    if ((target < lower) | (target > upper)):\n",
    "        print(f'the target {target} not bounded by CI, we cannot be certain regarding the repeatability of future trials')\n",
    "    else:\n",
    "        print(f'the target {target} is bounded by CI, we can be certain regarding the repeatability of future trials')\n",
    "        "
   ]
  },
  {
   "cell_type": "code",
   "execution_count": 12,
   "id": "7ed365ac",
   "metadata": {},
   "outputs": [
    {
     "name": "stdout",
     "output_type": "stream",
     "text": [
      "the target 0.15 not bounded by CI, we cannot be certain regarding the repeatability of future trials\n"
     ]
    }
   ],
   "source": [
    "## RESULT ##\n",
    "is_confident(target, treatment_lower_bound, treatment_uppeer_bound)"
   ]
  },
  {
   "cell_type": "markdown",
   "id": "4871e5ba",
   "metadata": {},
   "source": [
    "## 6. ALTERNATIVE: calculate statistics using library"
   ]
  },
  {
   "cell_type": "code",
   "execution_count": 13,
   "id": "3bb97d78",
   "metadata": {},
   "outputs": [
    {
     "name": "stdout",
     "output_type": "stream",
     "text": [
      "Verification\n",
      "z: -0.3430, p-value: 0.7316\n",
      "95% CI for control group: 0.1139 to 0.1327\n",
      "95% CI for treatment group: 0.1162 to 0.1351\n"
     ]
    }
   ],
   "source": [
    "z_stat, pval = proportions_ztest([control_converted, treatment_converted], [required_n, required_n])\n",
    "\n",
    "(lc, lt), (uc, ut) = proportion_confint([control_converted, treatment_converted], nobs=[required_n, required_n], alpha=0.05)\n",
    "\n",
    "print(f'Verification')\n",
    "print(f'z: {z_stat:.4f}, p-value: {pval:.4f}')\n",
    "print(f'95% CI for control group: {lc:.4f} to {uc:.4f}')\n",
    "print(f'95% CI for treatment group: {lt:.4f} to {ut:.4f}')\n",
    "\n",
    "# ALL CHECK"
   ]
  },
  {
   "cell_type": "markdown",
   "id": "e65ace73",
   "metadata": {},
   "source": [
    "## PART II. Means: Average User Posts using t-test"
   ]
  },
  {
   "cell_type": "markdown",
   "id": "c0b4e424",
   "metadata": {},
   "source": [
    "## 2. Simulate Ad-hoc Data"
   ]
  },
  {
   "cell_type": "code",
   "execution_count": 14,
   "id": "cbf0385c",
   "metadata": {},
   "outputs": [],
   "source": [
    "population = 10000\n",
    "sim_users = np.arange(population)\n",
    "dfp = pd.DataFrame(data=sim_users, columns=['user id'])"
   ]
  },
  {
   "cell_type": "code",
   "execution_count": 15,
   "id": "d45e3f23",
   "metadata": {},
   "outputs": [],
   "source": [
    "day = np.random.normal(0.4, 5, sim_users.size)   # i.e. day users make 0.4 posts on average\n",
    "night = np.random.normal(1.3, 3, sim_users.size) # i.e. night users make 1.3 posts on average\n",
    "\n",
    "dfp['day'] = pd.Series(day, index=dfp.index)\n",
    "dfp['night'] = pd.Series(night, index=dfp.index)\n"
   ]
  },
  {
   "cell_type": "code",
   "execution_count": 16,
   "id": "0d41b63b",
   "metadata": {},
   "outputs": [
    {
     "data": {
      "text/html": [
       "<div>\n",
       "<style scoped>\n",
       "    .dataframe tbody tr th:only-of-type {\n",
       "        vertical-align: middle;\n",
       "    }\n",
       "\n",
       "    .dataframe tbody tr th {\n",
       "        vertical-align: top;\n",
       "    }\n",
       "\n",
       "    .dataframe thead th {\n",
       "        text-align: right;\n",
       "    }\n",
       "</style>\n",
       "<table border=\"1\" class=\"dataframe\">\n",
       "  <thead>\n",
       "    <tr style=\"text-align: right;\">\n",
       "      <th></th>\n",
       "      <th>user id</th>\n",
       "      <th>day</th>\n",
       "      <th>night</th>\n",
       "    </tr>\n",
       "  </thead>\n",
       "  <tbody>\n",
       "    <tr>\n",
       "      <th>count</th>\n",
       "      <td>1000.000000</td>\n",
       "      <td>1000.000000</td>\n",
       "      <td>1000.000000</td>\n",
       "    </tr>\n",
       "    <tr>\n",
       "      <th>mean</th>\n",
       "      <td>4856.461000</td>\n",
       "      <td>0.212454</td>\n",
       "      <td>1.103697</td>\n",
       "    </tr>\n",
       "    <tr>\n",
       "      <th>std</th>\n",
       "      <td>2909.217403</td>\n",
       "      <td>4.823059</td>\n",
       "      <td>3.078787</td>\n",
       "    </tr>\n",
       "    <tr>\n",
       "      <th>min</th>\n",
       "      <td>0.000000</td>\n",
       "      <td>-13.883006</td>\n",
       "      <td>-8.863237</td>\n",
       "    </tr>\n",
       "    <tr>\n",
       "      <th>25%</th>\n",
       "      <td>2386.750000</td>\n",
       "      <td>-2.936184</td>\n",
       "      <td>-0.919597</td>\n",
       "    </tr>\n",
       "    <tr>\n",
       "      <th>50%</th>\n",
       "      <td>4772.000000</td>\n",
       "      <td>0.111659</td>\n",
       "      <td>1.142265</td>\n",
       "    </tr>\n",
       "    <tr>\n",
       "      <th>75%</th>\n",
       "      <td>7341.750000</td>\n",
       "      <td>3.518367</td>\n",
       "      <td>3.116245</td>\n",
       "    </tr>\n",
       "    <tr>\n",
       "      <th>max</th>\n",
       "      <td>9962.000000</td>\n",
       "      <td>17.256068</td>\n",
       "      <td>10.283566</td>\n",
       "    </tr>\n",
       "  </tbody>\n",
       "</table>\n",
       "</div>"
      ],
      "text/plain": [
       "           user id          day        night\n",
       "count  1000.000000  1000.000000  1000.000000\n",
       "mean   4856.461000     0.212454     1.103697\n",
       "std    2909.217403     4.823059     3.078787\n",
       "min       0.000000   -13.883006    -8.863237\n",
       "25%    2386.750000    -2.936184    -0.919597\n",
       "50%    4772.000000     0.111659     1.142265\n",
       "75%    7341.750000     3.518367     3.116245\n",
       "max    9962.000000    17.256068    10.283566"
      ]
     },
     "execution_count": 16,
     "metadata": {},
     "output_type": "execute_result"
    }
   ],
   "source": [
    "# 2.2 get sample\n",
    "\n",
    "n_samples = 1000\n",
    "dfs = dfp.sample(n_samples, random_state=state)"
   ]
  },
  {
   "cell_type": "code",
   "execution_count": 18,
   "id": "eb347043",
   "metadata": {},
   "outputs": [
    {
     "data": {
      "text/html": [
       "<div>\n",
       "<style scoped>\n",
       "    .dataframe tbody tr th:only-of-type {\n",
       "        vertical-align: middle;\n",
       "    }\n",
       "\n",
       "    .dataframe tbody tr th {\n",
       "        vertical-align: top;\n",
       "    }\n",
       "\n",
       "    .dataframe thead th {\n",
       "        text-align: right;\n",
       "    }\n",
       "</style>\n",
       "<table border=\"1\" class=\"dataframe\">\n",
       "  <thead>\n",
       "    <tr style=\"text-align: right;\">\n",
       "      <th></th>\n",
       "      <th>user id</th>\n",
       "      <th>day</th>\n",
       "      <th>night</th>\n",
       "      <th>is_control</th>\n",
       "    </tr>\n",
       "  </thead>\n",
       "  <tbody>\n",
       "    <tr>\n",
       "      <th>count</th>\n",
       "      <td>1000.000000</td>\n",
       "      <td>1000.000000</td>\n",
       "      <td>1000.000000</td>\n",
       "      <td>1000.000000</td>\n",
       "    </tr>\n",
       "    <tr>\n",
       "      <th>mean</th>\n",
       "      <td>4856.461000</td>\n",
       "      <td>0.212454</td>\n",
       "      <td>1.103697</td>\n",
       "      <td>0.526000</td>\n",
       "    </tr>\n",
       "    <tr>\n",
       "      <th>std</th>\n",
       "      <td>2909.217403</td>\n",
       "      <td>4.823059</td>\n",
       "      <td>3.078787</td>\n",
       "      <td>0.499573</td>\n",
       "    </tr>\n",
       "    <tr>\n",
       "      <th>min</th>\n",
       "      <td>0.000000</td>\n",
       "      <td>-13.883006</td>\n",
       "      <td>-8.863237</td>\n",
       "      <td>0.000000</td>\n",
       "    </tr>\n",
       "    <tr>\n",
       "      <th>25%</th>\n",
       "      <td>2386.750000</td>\n",
       "      <td>-2.936184</td>\n",
       "      <td>-0.919597</td>\n",
       "      <td>0.000000</td>\n",
       "    </tr>\n",
       "    <tr>\n",
       "      <th>50%</th>\n",
       "      <td>4772.000000</td>\n",
       "      <td>0.111659</td>\n",
       "      <td>1.142265</td>\n",
       "      <td>1.000000</td>\n",
       "    </tr>\n",
       "    <tr>\n",
       "      <th>75%</th>\n",
       "      <td>7341.750000</td>\n",
       "      <td>3.518367</td>\n",
       "      <td>3.116245</td>\n",
       "      <td>1.000000</td>\n",
       "    </tr>\n",
       "    <tr>\n",
       "      <th>max</th>\n",
       "      <td>9962.000000</td>\n",
       "      <td>17.256068</td>\n",
       "      <td>10.283566</td>\n",
       "      <td>1.000000</td>\n",
       "    </tr>\n",
       "  </tbody>\n",
       "</table>\n",
       "</div>"
      ],
      "text/plain": [
       "           user id          day        night   is_control\n",
       "count  1000.000000  1000.000000  1000.000000  1000.000000\n",
       "mean   4856.461000     0.212454     1.103697     0.526000\n",
       "std    2909.217403     4.823059     3.078787     0.499573\n",
       "min       0.000000   -13.883006    -8.863237     0.000000\n",
       "25%    2386.750000    -2.936184    -0.919597     0.000000\n",
       "50%    4772.000000     0.111659     1.142265     1.000000\n",
       "75%    7341.750000     3.518367     3.116245     1.000000\n",
       "max    9962.000000    17.256068    10.283566     1.000000"
      ]
     },
     "execution_count": 18,
     "metadata": {},
     "output_type": "execute_result"
    }
   ],
   "source": [
    "# 2.3 random assignment \n",
    "is_control = np.random.choice([0, 1], size=n_samples)\n",
    "dfs = dfs.assign(is_control=is_control)\n",
    "dfs.describe()"
   ]
  },
  {
   "cell_type": "code",
   "execution_count": 23,
   "id": "0491d08a",
   "metadata": {},
   "outputs": [
    {
     "data": {
      "text/plain": [
       "<AxesSubplot:xlabel='day', ylabel='Density'>"
      ]
     },
     "execution_count": 23,
     "metadata": {},
     "output_type": "execute_result"
    },
    {
     "data": {
      "image/png": "[encoded data removed]",
      "text/plain": [
       "<Figure size 640x480 with 1 Axes>"
      ]
     },
     "metadata": {},
     "output_type": "display_data"
    }
   ],
   "source": [
    "# 2.4 plot\n",
    "# 1st experiment\n",
    "sns.kdeplot(dfs[dfs.is_control == 0].day)\n",
    "sns.kdeplot(dfs[dfs.is_control == 1].day)"
   ]
  },
  {
   "cell_type": "code",
   "execution_count": 22,
   "id": "717638dc",
   "metadata": {},
   "outputs": [
    {
     "data": {
      "text/plain": [
       "<AxesSubplot:xlabel='night', ylabel='Density'>"
      ]
     },
     "execution_count": 22,
     "metadata": {},
     "output_type": "execute_result"
    },
    {
     "data": {
      "image/png": "[encoded data removed]",
      "text/plain": [
       "<Figure size 640x480 with 1 Axes>"
      ]
     },
     "metadata": {},
     "output_type": "display_data"
    }
   ],
   "source": [
    "# 2nd experiment\n",
    "sns.kdeplot(dfs[dfs.is_control == 0].night)\n",
    "sns.kdeplot(dfs[dfs.is_control == 1].night)"
   ]
  },
  {
   "cell_type": "code",
   "execution_count": 21,
   "id": "028e3b86",
   "metadata": {},
   "outputs": [
    {
     "data": {
      "text/plain": [
       "<AxesSubplot:xlabel='day', ylabel='Density'>"
      ]
     },
     "execution_count": 21,
     "metadata": {},
     "output_type": "execute_result"
    },
    {
     "data": {
      "image/png": "[encoded data removed]",
      "text/plain": [
       "<Figure size 640x480 with 1 Axes>"
      ]
     },
     "metadata": {},
     "output_type": "display_data"
    }
   ],
   "source": [
    "# 3rd experiment\n",
    "sns.kdeplot(dfs[dfs.is_control == 0].day)\n",
    "sns.kdeplot(dfs[dfs.is_control == 1].night)"
   ]
  },
  {
   "cell_type": "code",
   "execution_count": 38,
   "id": "a811cbca",
   "metadata": {},
   "outputs": [],
   "source": [
    "# 2.5 t-test\n",
    "\n",
    "def is_significant(group1, group2, alpha=0.05):\n",
    "    t, p = stats.ttest_ind(group1, group2, equal_var=False)\n",
    "    \n",
    "    if (p<alpha):\n",
    "        print(f\"t-test is significant, with t statistic being {t:.4f}\")\n",
    "    else:\n",
    "        print(f\"t-test is NOT significant, with t statistic being {t:.4f}\")\n",
    "        "
   ]
  },
  {
   "cell_type": "code",
   "execution_count": 40,
   "id": "74a0de99",
   "metadata": {},
   "outputs": [
    {
     "name": "stdout",
     "output_type": "stream",
     "text": [
      "t-test is NOT significant, with t statistic being 1.2413\n",
      "t-test is NOT significant, with t statistic being 0.1766\n",
      "t-test is significant, with t statistic being -2.6034\n"
     ]
    }
   ],
   "source": [
    "# 3 experiements as illustrated from the above graphs\n",
    "is_significant(dfs[dfs.is_control == 0].day, dfs[dfs.is_control == 1].day)\n",
    "is_significant(dfs[dfs.is_control == 0].night, dfs[dfs.is_control == 1].night)\n",
    "is_significant(dfs[dfs.is_control == 0].day, dfs[dfs.is_control == 1].night)"
   ]
  },
  {
   "cell_type": "code",
   "execution_count": null,
   "id": "3e0dffd6",
   "metadata": {},
   "outputs": [],
   "source": []
  },
  {
   "cell_type": "code",
   "execution_count": null,
   "id": "186f645f",
   "metadata": {},
   "outputs": [],
   "source": []
  },
  {
   "cell_type": "code",
   "execution_count": null,
   "id": "538266b2",
   "metadata": {},
   "outputs": [],
   "source": []
  },
  {
   "cell_type": "code",
   "execution_count": null,
   "id": "0945fba8",
   "metadata": {},
   "outputs": [],
   "source": []
  },
  {
   "cell_type": "code",
   "execution_count": null,
   "id": "780fd418",
   "metadata": {},
   "outputs": [],
   "source": []
  }
 ],
 "metadata": {
  "kernelspec": {
   "display_name": "Python 3 (ipykernel)",
   "language": "python",
   "name": "python3"
  },
  "language_info": {
   "codemirror_mode": {
    "name": "ipython",
    "version": 3
   },
   "file_extension": ".py",
   "mimetype": "text/x-python",
   "name": "python",
   "nbconvert_exporter": "python",
   "pygments_lexer": "ipython3",
   "version": "3.9.13"
  }
 },
 "nbformat": 4,
 "nbformat_minor": 5
}
